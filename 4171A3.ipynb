{
 "cells": [
  {
   "cell_type": "code",
   "execution_count": 158,
   "metadata": {
    "scrolled": true
   },
   "outputs": [],
   "source": [
    "a = []\n",
    "d = []\n",
    "\n",
    "with open('BridgeFDB.txt', 'rt') as f:\n",
    "    #flag = True\n",
    "    while True:\n",
    "        #line1 = f.readline().rstrip()\n",
    "        line2 = f.readline().rstrip()\n",
    "        if not line2:\n",
    "            break\n",
    "        a.append(line2)"
   ]
  },
  {
   "cell_type": "code",
   "execution_count": 159,
   "metadata": {},
   "outputs": [
    {
     "data": {
      "text/plain": [
       "'1'"
      ]
     },
     "execution_count": 159,
     "metadata": {},
     "output_type": "execute_result"
    }
   ],
   "source": [
    "a[1]"
   ]
  },
  {
   "cell_type": "code",
   "execution_count": 160,
   "metadata": {},
   "outputs": [],
   "source": [
    "b = []\n",
    "with open('RandomFrames.txt', 'rt') as f:\n",
    "    #flag = True\n",
    "    while True:\n",
    "        #line1 = f.readline().rstrip()\n",
    "        line2 = f.readline().rstrip()\n",
    "        if not line2:\n",
    "            break\n",
    "        b.append(line2)"
   ]
  },
  {
   "cell_type": "code",
   "execution_count": 161,
   "metadata": {},
   "outputs": [
    {
     "data": {
      "text/plain": [
       "'1'"
      ]
     },
     "execution_count": 161,
     "metadata": {},
     "output_type": "execute_result"
    }
   ],
   "source": [
    "b[2]"
   ]
  },
  {
   "cell_type": "code",
   "execution_count": 162,
   "metadata": {},
   "outputs": [],
   "source": [
    "class Fdb:\n",
    "    \n",
    "    def __init__(self,src,port):\n",
    "        self.src = src\n",
    "        self.port = port\n",
    "    \n",
    "    def display(self):\n",
    "        print(self.src,self.port)\n",
    "    \n",
    "    def getSrc(self):\n",
    "        return self.src\n",
    "    \n",
    "    def getPort(self):\n",
    "        return self.port\n",
    "    \n",
    "    def setPort(self,nPort):\n",
    "        self.port = nPort\n",
    "\n",
    "class RandomFrame:\n",
    "    def __init__(self,src,dest,port):\n",
    "        self.src = src\n",
    "        self.dest = dest\n",
    "        self.port = port\n",
    "        \n",
    "    def getSrcR(self):\n",
    "        return self.src\n",
    "    \n",
    "    def getDestR(self):\n",
    "        return self.dest\n",
    "    \n",
    "    def getPortR(self):\n",
    "        return self.port\n",
    "    \n",
    "    def setPortR(self,nPort):\n",
    "        self.port = nPort\n",
    "    \n",
    "    def display(self,pad=None):\n",
    "        print(self.src,self.dest,self.port,pad)\n",
    "        \n",
    "    "
   ]
  },
  {
   "cell_type": "code",
   "execution_count": 163,
   "metadata": {},
   "outputs": [
    {
     "name": "stdout",
     "output_type": "stream",
     "text": [
      "00-00-00-11-0b-0d 1\n"
     ]
    },
    {
     "data": {
      "text/plain": [
       "92"
      ]
     },
     "execution_count": 163,
     "metadata": {},
     "output_type": "execute_result"
    }
   ],
   "source": [
    "a1 = Fdb(a[0],a[1])\n",
    "a1.display()\n",
    "len(a)"
   ]
  },
  {
   "cell_type": "code",
   "execution_count": 164,
   "metadata": {},
   "outputs": [],
   "source": [
    "table = []\n",
    "i = 0\n",
    "while i < (len(a)):\n",
    "    str1 = a[i]\n",
    "    index = i + 1\n",
    "    str2 = a[index]\n",
    "    temp = Fdb(str1,str2)\n",
    "    table.append(temp)\n",
    "    i = i+2"
   ]
  },
  {
   "cell_type": "code",
   "execution_count": 165,
   "metadata": {},
   "outputs": [
    {
     "name": "stdout",
     "output_type": "stream",
     "text": [
      "00-13-46-c6-a5-35 2\n",
      "00-13-46-c6-a5-35 2\n"
     ]
    }
   ],
   "source": [
    "table[1].display()\n",
    "len(table)\n",
    "#table[1].setPort(0)\n",
    "table[1].display()"
   ]
  },
  {
   "cell_type": "code",
   "execution_count": 166,
   "metadata": {},
   "outputs": [],
   "source": [
    "#az = table[1].getSrc()"
   ]
  },
  {
   "cell_type": "code",
   "execution_count": 167,
   "metadata": {},
   "outputs": [
    {
     "name": "stdout",
     "output_type": "stream",
     "text": [
      "00-00-00-11-0b-0d 1\n",
      "00-13-46-c6-a5-35 2\n",
      "00-13-8f-cd-44-58 3\n",
      "00-0c-29-51-33-c1 4\n",
      "01-00-5e-7f-ff-64 4\n",
      "00-1a-4d-30-f7-a7 3\n",
      "00-0e-38-72-eb-97 2\n"
     ]
    }
   ],
   "source": [
    "#sort(table,)\n",
    "for i in range(len(table)):\n",
    "    table[i].display()\n",
    "    if i == 6:\n",
    "        break"
   ]
  },
  {
   "cell_type": "code",
   "execution_count": 168,
   "metadata": {},
   "outputs": [
    {
     "name": "stdout",
     "output_type": "stream",
     "text": [
      "00-00-00-11-0b-0d 00-13-46-c6-a5-35 1 None\n",
      "00-0c-29-51-33-c1 01-00-5e-7f-ff-64 4 None\n",
      "01-00-5e-7f-ff-64 00-00-4f-31-fa-fb 3 None\n",
      "00-1d-60-29-cc-b2 00-1d-7d-77-de-3c 4 None\n",
      "00-19-5b-0d-04-dc 00-21-91-f5-d5-d4 1 None\n",
      "00-1a-4d-34-ab-cd 00-e0-4c-86-70-09 2 None\n",
      "00-1f-d0-c8-49-7f 00-24-1d-3a-7d-14 3 None\n",
      "00-11-22-33-44-55 00-1d-60-29-a5-ae 3 None\n",
      "00-24-1d-3a-b8-2a 00-19-5b-0d-04-dc 2 None\n",
      "00-0c-29-33-47-6f 00-11-22-33-44-55 2 None\n"
     ]
    }
   ],
   "source": [
    "tableR = []\n",
    "i = 0\n",
    "while i < (len(b)-2):\n",
    "    str1 = b[i]\n",
    "    i = i+1\n",
    "    str2 = b[i]\n",
    "    i = i+1\n",
    "    str3 = b[i]\n",
    "    temp = RandomFrame(str1,str2,str3)\n",
    "    tableR.append(temp)\n",
    "    i = i+1\n",
    "    temp.display()"
   ]
  },
  {
   "cell_type": "code",
   "execution_count": null,
   "metadata": {},
   "outputs": [],
   "source": []
  },
  {
   "cell_type": "code",
   "execution_count": 4,
   "metadata": {},
   "outputs": [
    {
     "name": "stdout",
     "output_type": "stream",
     "text": [
      "00-00-00-11-0b-0d 00-13-46-c6-a5-35 1 forward on port 2\n",
      "00-0c-29-51-33-c1 01-00-5e-7f-ff-64 4 Discard\n",
      "01-00-5e-7f-ff-64 00-00-4f-31-fa-fb 3 Broadcast\n",
      "00-1d-60-29-cc-b2 00-1d-7d-77-de-3c 4 Discard\n",
      "00-19-5b-0d-04-dc 00-21-91-f5-d5-d4 1 Discard\n",
      "00-1a-4d-34-ab-cd 00-e0-4c-86-70-09 2 forward on port 1\n",
      "00-1f-d0-c8-49-7f 00-24-1d-3a-7d-14 3 forward on port 4\n",
      "00-11-22-33-44-55 00-1d-60-29-a5-ae 3 Discard\n",
      "00-24-1d-3a-b8-2a 00-19-5b-0d-04-dc 2 forward on port 1\n",
      "00-0c-29-33-47-6f 00-11-22-33-44-55 2 forward on port 3\n"
     ]
    }
   ],
   "source": [
    "a = []\n",
    "d = []\n",
    "\n",
    "with open('BridgeFDB.txt', 'rt') as f:\n",
    "    #flag = True\n",
    "    while True:\n",
    "        #line1 = f.readline().rstrip()\n",
    "        line2 = f.readline().rstrip()\n",
    "        if not line2:\n",
    "            break\n",
    "        a.append(line2)\n",
    "\n",
    "b = []\n",
    "with open('RandomFrames.txt', 'rt') as f:\n",
    "    #flag = True\n",
    "    while True:\n",
    "        #line1 = f.readline().rstrip()\n",
    "        line2 = f.readline().rstrip()\n",
    "        if not line2:\n",
    "            break\n",
    "        b.append(line2)\n",
    "\n",
    "class Fdb:\n",
    "    \n",
    "    def __init__(self,src,port):\n",
    "        self.src = src\n",
    "        self.port = port\n",
    "    \n",
    "    def display(self):\n",
    "        print(self.src,self.port)\n",
    "    \n",
    "    def getSrc(self):\n",
    "        return self.src\n",
    "    \n",
    "    def getPort(self):\n",
    "        return self.port\n",
    "    \n",
    "    def setPort(self,nPort):\n",
    "        self.port = nPort\n",
    "\n",
    "class RandomFrame:\n",
    "    def __init__(self,src,dest,port):\n",
    "        self.src = src\n",
    "        self.dest = dest\n",
    "        self.port = port\n",
    "        \n",
    "    def getSrcR(self):\n",
    "        return self.src\n",
    "    \n",
    "    def getDestR(self):\n",
    "        return self.dest\n",
    "    \n",
    "    def getPortR(self):\n",
    "        return self.port\n",
    "    \n",
    "    def setPortR(self,nPort):\n",
    "        self.port = nPort\n",
    "    \n",
    "    def display(self,pad=None):\n",
    "        print(self.src,self.dest,self.port,pad)\n",
    "\n",
    "table = []\n",
    "i = 0\n",
    "while i < (len(a)):\n",
    "    str1 = a[i]\n",
    "    index = i + 1\n",
    "    str2 = a[index]\n",
    "    temp = Fdb(str1,str2)\n",
    "    table.append(temp)\n",
    "    i = i+2\n",
    "\n",
    "tableR = []\n",
    "i = 0\n",
    "while i < (len(b)-2):\n",
    "    str1 = b[i]\n",
    "    i = i+1\n",
    "    str2 = b[i]\n",
    "    i = i+1\n",
    "    str3 = b[i]\n",
    "    temp = RandomFrame(str1,str2,str3)\n",
    "    tableR.append(temp)\n",
    "    i = i+1\n",
    "    #temp.display()\n",
    "\n",
    "        \n",
    "def sort(listA,macAdd):\n",
    "    #ans = Fdb(None,None)\n",
    "    for i in range(len(listA)):\n",
    "        if macAdd == listA[i].getSrc():\n",
    "            return listA[i]\n",
    "    \n",
    "\n",
    "\n",
    "for i in range(len(tableR)):\n",
    "    src = tableR[i].getSrcR()\n",
    "    dest = tableR[i].getDestR()\n",
    "    port = tableR[i].getPortR()\n",
    "    \n",
    "    src_match = sort(table,src)\n",
    "    \n",
    "    if src_match == None:\n",
    "        p1 = Fdb(src,port)\n",
    "        table.append(p1)\n",
    "    else:\n",
    "        src_port = src_match.getPort()\n",
    "        dest_match = sort(table,dest)\n",
    "        if dest_match == None:\n",
    "            print(src,dest,port,'Broadcast')\n",
    "                \n",
    "        else:\n",
    "            if port == dest_match.getPort():\n",
    "                #tableR[i].display('Discard')\n",
    "                print(src,dest,port,'Discard')\n",
    "            else:\n",
    "                #tableR[i].display('forward on '+ src_port)\n",
    "                #dest_match.display()\n",
    "                print(src,dest,port,'forward on port '+ str(dest_match.getPort()))\n",
    "                \n",
    "        \n",
    " "
   ]
  },
  {
   "cell_type": "markdown",
   "metadata": {},
   "source": [
    "# Q2"
   ]
  },
  {
   "cell_type": "code",
   "execution_count": 146,
   "metadata": {},
   "outputs": [],
   "source": [
    "import ipaddress as ip\n",
    "\n",
    "randomPacket = []\n",
    "with open('RandomPackets.txt', 'rt') as f:\n",
    "    #flag = True\n",
    "    while True:\n",
    "        #line1 = f.readline().rstrip()\n",
    "        line2 = f.readline().rstrip()\n",
    "        if not line2:\n",
    "            break\n",
    "        yt = ip.ip_address(line2)\n",
    "        randomPacket.append(yt)\n",
    "\n",
    "bb = []\n",
    "with open('RoutingTable.txt', 'rt') as f:\n",
    "    #flag = True\n",
    "    while True:\n",
    "        #line1 = f.readline().rstrip()\n",
    "        line2 = f.readline().rstrip()\n",
    "        if not line2:\n",
    "            break\n",
    "        bb.append(line2)"
   ]
  },
  {
   "cell_type": "code",
   "execution_count": 147,
   "metadata": {},
   "outputs": [],
   "source": [
    "class RoutingTableObj:\n",
    "    def __init__(self,dest,nextHop,outInterface):\n",
    "        self.dest = dest\n",
    "        self.nextHop = nextHop \n",
    "        self.outInterface = outInterface\n",
    "        \n",
    "    def getNextHop(self):\n",
    "        return self.nextHop\n",
    "    \n",
    "    def getDest(self):\n",
    "        return self.dest\n",
    "    \n",
    "    def getOutInterface(self):\n",
    "        return self.outInterface\n",
    "    \n",
    "    def setPortR(self,nPort):\n",
    "        self.port = nPort\n",
    "    \n",
    "    def display(self):\n",
    "        print(self.dest,self.nextHop,self.outInterface)"
   ]
  },
  {
   "cell_type": "code",
   "execution_count": 148,
   "metadata": {},
   "outputs": [],
   "source": [
    "routingTable = []\n",
    "i = 0\n",
    "while i < (len(bb)-2):\n",
    "    str1 = bb[i]\n",
    "    yt = ip.ip_network(str1)\n",
    "    i = i+1\n",
    "    str2 = bb[i]\n",
    "    i = i+1\n",
    "    str3 = bb[i]\n",
    "    temp = RoutingTableObj(yt,str2,str3)\n",
    "    routingTable.append(temp)\n",
    "    i = i+1"
   ]
  },
  {
   "cell_type": "code",
   "execution_count": 149,
   "metadata": {},
   "outputs": [
    {
     "name": "stdout",
     "output_type": "stream",
     "text": [
      "192.168.1.0/24 - E0\n",
      "192.168.2.0/24 192.168.4.2 S0\n",
      "192.168.3.0/24 192.168.5.2 S1\n",
      "192.168.4.0/24 - S0\n",
      "192.168.5.0/24 - S1\n",
      "192.168.6.0/24 192.168.4.2 S0\n",
      "192.168.2.2/32 192.168.5.2 S1\n",
      "192.168.3.3/32 192.168.4.2 S0\n",
      "0.0.0.0/0 192.168.4.2 S0\n"
     ]
    }
   ],
   "source": [
    "for j in range(len(routingTable)):\n",
    "    routingTable[j].display()"
   ]
  },
  {
   "cell_type": "code",
   "execution_count": null,
   "metadata": {},
   "outputs": [],
   "source": []
  },
  {
   "cell_type": "code",
   "execution_count": 150,
   "metadata": {},
   "outputs": [
    {
     "name": "stdout",
     "output_type": "stream",
     "text": [
      "192.168.1.1 will be forward on the directly connected network on E0\n",
      "192.168.3.2 will be forward to 192.168.5.2 out on interface S1\n",
      "200.56.45.89 will be forward to 192.168.4.2 out on interface S0\n",
      "255.0.0.0 is malformed. Discard.\n",
      "127.0.0.1 is loopback. Discard.\n",
      "192.168.2.2 will be forward to 192.168.4.2 out on interface S0\n",
      "192.168.3.2 will be forward to 192.168.5.2 out on interface S1\n",
      "192.168.10.45 will be forward to 192.168.4.2 out on interface S0\n",
      "192.168.6.34 will be forward to 192.168.4.2 out on interface S0\n",
      "192.168.0.15 will be forward to 192.168.4.2 out on interface S0\n",
      "192.168.4.3 will be forward on the directly connected network on S0\n",
      "192.168.5.79 will be forward on the directly connected network on S1\n",
      "10.5.6.7 will be forward to 192.168.4.2 out on interface S0\n",
      "172.3.4.5 will be forward to 192.168.4.2 out on interface S0\n",
      "192.168.0.192 will be forward to 192.168.4.2 out on interface S0\n"
     ]
    }
   ],
   "source": [
    "from ipaddress import IPv4Address, IPv4Network\n",
    "\n",
    "error = IPv4Network((\"255.0.0.0\", \"255.0.0.0\"))  # or IPv4Network(\"192.168.0.0/16\")\n",
    "\n",
    "for i in range(len(randomPacket)):\n",
    "    if randomPacket[i].is_loopback:\n",
    "        print(str(randomPacket[i]) + ' is loopback. Discard.')\n",
    "        \n",
    "    elif randomPacket[i] in error:\n",
    "        print(str(randomPacket[i]) + ' is malformed. Discard.')\n",
    "    else:    \n",
    "        for j in range(len(routingTable)):\n",
    "            if randomPacket[i] in routingTable[j].getDest():\n",
    "                if routingTable[j].getNextHop() == '-':\n",
    "                    print(str(randomPacket[i]) + ' will be forward on the directly connected network on '\n",
    "                          + routingTable[j].getOutInterface())\n",
    "                    break\n",
    "                else:\n",
    "                    print(str(randomPacket[i]) + ' will be forward to ' + routingTable[j].getNextHop() \n",
    "                          + ' out on interface ' + routingTable[j].getOutInterface())\n",
    "                    break\n",
    "            else:\n",
    "                pass"
   ]
  },
  {
   "cell_type": "code",
   "execution_count": null,
   "metadata": {},
   "outputs": [],
   "source": []
  },
  {
   "cell_type": "code",
   "execution_count": 1,
   "metadata": {},
   "outputs": [
    {
     "name": "stdout",
     "output_type": "stream",
     "text": [
      "192.168.1.1 will be forward on the directly connected network on E0\n",
      "192.168.3.2 will be forward to 192.168.5.2 out on interface S1\n",
      "200.56.45.89 will be forward to 192.168.4.2 out on interface S0\n",
      "255.0.0.0 is malformed. Discard.\n",
      "127.0.0.1 is loopback. Discard.\n",
      "192.168.2.2 will be forward to 192.168.4.2 out on interface S0\n",
      "192.168.3.2 will be forward to 192.168.5.2 out on interface S1\n",
      "192.168.10.45 will be forward to 192.168.4.2 out on interface S0\n",
      "192.168.6.34 will be forward to 192.168.4.2 out on interface S0\n",
      "192.168.0.15 will be forward to 192.168.4.2 out on interface S0\n",
      "192.168.4.3 will be forward on the directly connected network on S0\n",
      "192.168.5.79 will be forward on the directly connected network on S1\n",
      "10.5.6.7 will be forward to 192.168.4.2 out on interface S0\n",
      "172.3.4.5 will be forward to 192.168.4.2 out on interface S0\n",
      "192.168.0.192 will be forward to 192.168.4.2 out on interface S0\n"
     ]
    }
   ],
   "source": [
    "import ipaddress as ip\n",
    "from ipaddress import IPv4Address, IPv4Network\n",
    "\n",
    "\n",
    "\n",
    "randomPacket = []\n",
    "with open('RandomPackets.txt', 'rt') as f:\n",
    "    #flag = True\n",
    "    while True:\n",
    "        #line1 = f.readline().rstrip()\n",
    "        line2 = f.readline().rstrip()\n",
    "        if not line2:\n",
    "            break\n",
    "        yt = ip.ip_address(line2)\n",
    "        randomPacket.append(yt)\n",
    "\n",
    "bb = []\n",
    "with open('RoutingTable.txt', 'rt') as f:\n",
    "    #flag = True\n",
    "    while True:\n",
    "        #line1 = f.readline().rstrip()\n",
    "        line2 = f.readline().rstrip()\n",
    "        if not line2:\n",
    "            break\n",
    "        bb.append(line2)\n",
    "\n",
    "class RoutingTableObj:\n",
    "    def __init__(self,dest,nextHop,outInterface):\n",
    "        self.dest = dest\n",
    "        self.nextHop = nextHop \n",
    "        self.outInterface = outInterface\n",
    "        \n",
    "    def getNextHop(self):\n",
    "        return self.nextHop\n",
    "    \n",
    "    def getDest(self):\n",
    "        return self.dest\n",
    "    \n",
    "    def getOutInterface(self):\n",
    "        return self.outInterface\n",
    "    \n",
    "    def setPortR(self,nPort):\n",
    "        self.port = nPort\n",
    "    \n",
    "    def display(self):\n",
    "        print(self.dest,self.nextHop,self.outInterface)\n",
    "        \n",
    "routingTable = []\n",
    "i = 0\n",
    "while i < (len(bb)-2):\n",
    "    str1 = bb[i]\n",
    "    yt = ip.ip_network(str1)\n",
    "    i = i+1\n",
    "    str2 = bb[i]\n",
    "    i = i+1\n",
    "    str3 = bb[i]\n",
    "    temp = RoutingTableObj(yt,str2,str3)\n",
    "    routingTable.append(temp)\n",
    "    i = i+1\n",
    "\n",
    "#kick 255 out \n",
    "error = IPv4Network((\"255.0.0.0\", \"255.0.0.0\"))  # or IPv4Network(\"192.168.0.0/16\")\n",
    "\n",
    "for i in range(len(randomPacket)):\n",
    "    if randomPacket[i].is_loopback:\n",
    "        print(str(randomPacket[i]) + ' is loopback. Discard.')\n",
    "        \n",
    "    elif randomPacket[i] in error:\n",
    "        print(str(randomPacket[i]) + ' is malformed. Discard.')\n",
    "    else:    \n",
    "        for j in range(len(routingTable)):\n",
    "            if randomPacket[i] in routingTable[j].getDest():\n",
    "                if routingTable[j].getNextHop() == '-':\n",
    "                    print(str(randomPacket[i]) + ' will be forward on the directly connected network on '\n",
    "                          + routingTable[j].getOutInterface())\n",
    "                    break\n",
    "                else:\n",
    "                    print(str(randomPacket[i]) + ' will be forward to ' + routingTable[j].getNextHop() \n",
    "                          + ' out on interface ' + routingTable[j].getOutInterface())\n",
    "                    break\n",
    "            else:\n",
    "                pass"
   ]
  },
  {
   "cell_type": "code",
   "execution_count": null,
   "metadata": {},
   "outputs": [],
   "source": []
  },
  {
   "cell_type": "code",
   "execution_count": null,
   "metadata": {},
   "outputs": [],
   "source": []
  }
 ],
 "metadata": {
  "kernelspec": {
   "display_name": "Python 3",
   "language": "python",
   "name": "python3"
  },
  "language_info": {
   "codemirror_mode": {
    "name": "ipython",
    "version": 3
   },
   "file_extension": ".py",
   "mimetype": "text/x-python",
   "name": "python",
   "nbconvert_exporter": "python",
   "pygments_lexer": "ipython3",
   "version": "3.6.8"
  }
 },
 "nbformat": 4,
 "nbformat_minor": 2
}
